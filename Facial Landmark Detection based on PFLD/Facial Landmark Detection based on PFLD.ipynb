{
  "nbformat": 4,
  "nbformat_minor": 0,
  "metadata": {
    "colab": {
      "name": "人脸关键点检测_case (1).ipynb",
      "provenance": [],
      "collapsed_sections": []
    },
    "kernelspec": {
      "name": "python3",
      "display_name": "Python 3"
    },
    "accelerator": "GPU"
  },
  "cells": [
    {
      "cell_type": "code",
      "metadata": {
        "colab": {
          "base_uri": "https://localhost:8080/"
        },
        "id": "sd6x4vxnq0KZ",
        "outputId": "282b4a09-0268-45a6-9e03-4b712a8f9979"
      },
      "source": [
        "1"
      ],
      "execution_count": null,
      "outputs": [
        {
          "output_type": "execute_result",
          "data": {
            "text/plain": [
              "1"
            ]
          },
          "metadata": {
            "tags": []
          },
          "execution_count": 57
        }
      ]
    },
    {
      "cell_type": "markdown",
      "metadata": {
        "id": "N8nFYW--3X2p"
      },
      "source": [
        "人脸关键点检测是指给定人脸图像，定位出人脸面部的关键区域位置，如眉毛、眼睛、鼻子、嘴巴、脸部轮廓等。人脸关键点检测是人脸识别中的关键步骤。本文针对深度学习方法进行了人脸关键点检测的研究。近年来，基于深度学习的方法大幅提高了检测的速度和精度。本文介绍算法PFLD，利用神经网络实现人脸关键点检测。\r\n",
        "\r\n"
      ]
    },
    {
      "cell_type": "markdown",
      "metadata": {
        "id": "PdDd82k85QbY"
      },
      "source": [
        "# 目录\r\n",
        "[1. 数据集简介](#1)<br>\r\n",
        "[2. 模型介绍](#2)<br>\r\n",
        "[3. 数据预处理](#3)<br>\r\n",
        "&nbsp;&nbsp;&nbsp;&nbsp;[3.1 划分数据集](#3.1)<br>\r\n",
        "&nbsp;&nbsp;&nbsp;&nbsp;[3.2 Pytorch读取数据](#3.2)<br>\r\n",
        "[4. 模型构建](#4)<br>\r\n",
        "&nbsp;&nbsp;&nbsp;&nbsp;[4.1 关键点回归模型](#4.1)<br>\r\n",
        "&nbsp;&nbsp;&nbsp;&nbsp;[4.2 姿态估计模型](#4.2)<br>\r\n",
        "[5. 模型训练](#5)<br>\r\n",
        "&nbsp;&nbsp;&nbsp;&nbsp;[5.1 模型训练函数](#5.1)<br>\r\n",
        "&nbsp;&nbsp;&nbsp;&nbsp;[5.2 优化模型参数](#5.2)<br>\r\n",
        "[6. 人脸关键点检测效果](#6)<br>\r\n",
        "&nbsp;&nbsp;&nbsp;&nbsp;[6.1 损失值变化](#5.1)<br>\r\n",
        "&nbsp;&nbsp;&nbsp;&nbsp;[6.2 人脸关键点检测](#5.2)<br>\r\n",
        "[7. 总结](#7)<br>"
      ]
    },
    {
      "cell_type": "markdown",
      "metadata": {
        "id": "3SpGlJPp-O-4"
      },
      "source": [
        "<div id=\"1\"></div>\r\n",
        "# 1 数据集简介\r\n",
        "\r\n",
        "案例采用WFLW数据集训练模型，数据集大小为724MB，是有较多人脸关键点标注的数据集。\r\n",
        "\r\n",
        "解压数据集文件后，可以得到两个文件夹，其中`WFLW_images`文件夹下包含10000张图像，7500张图像为训练集，2500张图像为测试集。图像中涵盖了多种身份、场景下的人脸。如`1--Handshaking`文件夹下包含握手时的人脸姿态，`22--Picnic`文件夹中收集了野餐时的人像。"
      ]
    },
    {
      "cell_type": "markdown",
      "metadata": {
        "id": "HqOLNH4lCN0T"
      },
      "source": [
        "在`WFLW_annotations`文件夹下，包含着对图像中人脸关键点的标注，每张人脸标识出98个关键点。除关键点之外，还备注了人脸的属性信息，如遮挡，姿态，妆容，光照，模糊和表情等。"
      ]
    },
    {
      "cell_type": "markdown",
      "metadata": {
        "id": "05rpYO5ZJg4g"
      },
      "source": [
        "<div id=\"2\"></div>\r\n",
        "# 2 模型介绍\r\n",
        "\r\n",
        "本案例采用PFLD模型作为人脸关键点检测器。PFLD的网络结构分为两个部分：关键点回归模型、姿态估计模型。\r\n",
        "\r\n",
        "如下图所示，黄色框内为关键点回归模型的网络结构，用于检测人脸关键点的坐标。绿色框内为姿态估计模型，在训练时预测人脸姿态。\r\n",
        "\r\n"
      ]
    },
    {
      "cell_type": "markdown",
      "metadata": {
        "id": "ur4orVA6K_Mw"
      },
      "source": [
        "<div id=\"3\"></div>\r\n",
        "# 3 数据预处理\r\n",
        "\r\n",
        "原始数据中图像和关键点标注是分开存放的，我们定义数据集接口，获取图像和其对应标注。\r\n",
        "\r\n",
        "首先加载需要使用的库，便于后续调用函数。"
      ]
    },
    {
      "cell_type": "code",
      "metadata": {
        "id": "PfZF3zEzLidx"
      },
      "source": [
        "cp utils.py ../"
      ],
      "execution_count": null,
      "outputs": []
    },
    {
      "cell_type": "code",
      "metadata": {
        "id": "hW5yA22dLj_k"
      },
      "source": [
        "cp loss.py ../"
      ],
      "execution_count": null,
      "outputs": []
    },
    {
      "cell_type": "code",
      "metadata": {
        "id": "K9lvguNPLl5o"
      },
      "source": [
        "cp SetPreparation.py ../"
      ],
      "execution_count": null,
      "outputs": []
    },
    {
      "cell_type": "code",
      "metadata": {
        "id": "klNLRrBMLYXO"
      },
      "source": [
        "import numpy as np\r\n",
        "import cv2\r\n",
        "import shutil\r\n",
        "\r\n",
        "import torch\r\n",
        "import os\r\n",
        "import torch.nn as nn\r\n",
        "\r\n",
        "# import logging\r\n",
        "# from pathlib import Path\r\n",
        "\r\n",
        "from torch.utils import data\r\n",
        "from torch.utils.data import DataLoader\r\n",
        "import torchvision\r\n",
        "from torchvision import datasets, transforms\r\n",
        "import torch.backends.cudnn as cudnn\r\n",
        "\r\n",
        "from loss import PFLDLoss\r\n",
        "from utils import AverageMeter, calculate_pitch_yaw_roll\r\n",
        "from SetPreparation import rotate, ImageDate\r\n",
        "\r\n",
        "from matplotlib import pyplot as plt\r\n",
        "import random"
      ],
      "execution_count": null,
      "outputs": []
    },
    {
      "cell_type": "markdown",
      "metadata": {
        "id": "kZrLzSrS5kYB"
      },
      "source": [
        "<div id=\"3.1\"></div>\r\n",
        "## 3.1 划分数据集\r\n",
        "\r\n",
        "原始数据集WFLW中共有10000张图像，为训练模型，我们需要将其划分为训练集和测试集。划分比例为训练集：测试集 = 3:1。\r\n",
        "\r\n",
        "首先调用函数，解压zip文件夹，读取WFLW数据集。"
      ]
    },
    {
      "cell_type": "code",
      "metadata": {
        "id": "MiNGIZ4mRXAG"
      },
      "source": [
        "# 读取压缩为zip文件的数据集\r\n",
        "!apt install unzip\r\n",
        "!unzip WFLW.zip"
      ],
      "execution_count": null,
      "outputs": []
    },
    {
      "cell_type": "markdown",
      "metadata": {
        "id": "5unzVxCtwT2Q"
      },
      "source": [
        "同时读取人脸关键点数据，以及其对应的原图路径。"
      ]
    },
    {
      "cell_type": "code",
      "metadata": {
        "id": "lxjoNirr4nq7"
      },
      "source": [
        "def get_dataset_list(imgDir, outDir, landmarkDir, is_train):\r\n",
        "    with open(landmarkDir,'r') as f:\r\n",
        "        lines = f.readlines() # 读取人脸关键点坐标\r\n",
        "        labels = []\r\n",
        "\r\n",
        "        # 建立保存训练集和测试集的文件夹\r\n",
        "        save_img = os.path.join(outDir, 'imgs')\r\n",
        "        if not os.path.exists(save_img):\r\n",
        "            os.mkdir(save_img)\r\n",
        "\r\n",
        "        # 读取每张图像及其标注的人脸关键点\r\n",
        "        for i, line in enumerate(lines):\r\n",
        "            Img = ImageDate(line, imgDir)\r\n",
        "            img_name = Img.path # 原图路径\r\n",
        "            Img.load_data(is_train, 10, Mirror_file)\r\n",
        "            _, filename = os.path.split(img_name) # 分割图像名和图像路径\r\n",
        "            filename, _ = os.path.splitext(filename)\r\n",
        "            label_txt = Img.save_data(save_img, str(i)+'_' + filename) # 图像名及其中人脸的标注点坐标\r\n",
        "            labels.append(label_txt)\r\n",
        "            \r\n",
        "            # 显示划分测试集和训练集的进度\r\n",
        "            if ((i + 1) % 1000) == 0:\r\n",
        "                print('file: {}/{}'.format(i+1, len(lines)))\r\n",
        "\r\n",
        "    # 保存图像路径和对应人脸关键点的数据\r\n",
        "    with open(os.path.join(outDir, 'list.txt'),'w') as f:\r\n",
        "        for label in labels:\r\n",
        "            f.writelines(label)"
      ],
      "execution_count": null,
      "outputs": []
    },
    {
      "cell_type": "markdown",
      "metadata": {
        "id": "d4eoEBMdwa6H"
      },
      "source": [
        "原数据集中共10000张图像，定义函数将其分为包含7500张图像的训练集，和2500张图像的测试集，并将数据分别储存在`train_data`和`test_data`文件夹下。"
      ]
    },
    {
      "cell_type": "code",
      "metadata": {
        "id": "xCVh5A5qiAdJ"
      },
      "source": [
        "root_dir = \"/content/\"\r\n",
        "imageDirs = 'WFLW/WFLW_images'\r\n",
        "Mirror_file = 'WFLW/WFLW_annotations/Mirror98.txt'\r\n",
        "\r\n",
        "landmarkDirs = ['WFLW/WFLW_annotations/list_98pt_rect_attr_train_test/list_98pt_rect_attr_test.txt',\r\n",
        "                'WFLW/WFLW_annotations/list_98pt_rect_attr_train_test/list_98pt_rect_attr_train.txt']\r\n",
        "\r\n",
        "outDirs = ['test_data', 'train_data']"
      ],
      "execution_count": null,
      "outputs": []
    },
    {
      "cell_type": "code",
      "metadata": {
        "colab": {
          "base_uri": "https://localhost:8080/"
        },
        "id": "zPkEuPnqPZ6b",
        "outputId": "3ed4efa6-4630-4ca5-c4ae-ce6701b20440"
      },
      "source": [
        "for landmarkDir, outDir in zip(landmarkDirs, outDirs):\r\n",
        "    outDir = os.path.join(root_dir, outDir)\r\n",
        "    print(outDir)\r\n",
        "    \r\n",
        "    if os.path.exists(outDir):  # 文件夹已存在\r\n",
        "        shutil.rmtree(outDir) # 递归删除文件夹以及所有内容\r\n",
        "    os.mkdir(outDir) # 创建文件夹\r\n",
        "    \r\n",
        "    # 构建测试集\r\n",
        "    if 'list_98pt_rect_attr_test.txt' in landmarkDir:\r\n",
        "        is_train = False\r\n",
        "    \r\n",
        "    # 构建训练集\r\n",
        "    else:\r\n",
        "        is_train = True\r\n",
        "    \r\n",
        "    # 划分出测试集和训练集\r\n",
        "    imgs = get_dataset_list(imageDirs, outDir, landmarkDir, is_train)\r\n",
        "\r\n",
        "print('end')"
      ],
      "execution_count": null,
      "outputs": [
        {
          "output_type": "stream",
          "text": [
            "/content/test_data\n",
            "file: 1000/2500\n",
            "file: 2000/2500\n",
            "/content/train_data\n",
            "file: 1000/7500\n",
            "file: 2000/7500\n",
            "file: 3000/7500\n",
            "file: 4000/7500\n",
            "file: 5000/7500\n",
            "file: 6000/7500\n",
            "file: 7000/7500\n",
            "end\n"
          ],
          "name": "stdout"
        }
      ]
    },
    {
      "cell_type": "markdown",
      "metadata": {
        "id": "D9VdFZJryf_y"
      },
      "source": [
        "<div id=\"3.2\"></div>\r\n",
        "## 3.2 Pytorch读取数据\r\n",
        "\r\n",
        "接下来定义`WLFWDatasets`类，加载训练集和测试集的数据。"
      ]
    },
    {
      "cell_type": "code",
      "metadata": {
        "id": "Lw4TQyfiQZKb"
      },
      "source": [
        "class WLFWDatasets(data.Dataset):\r\n",
        "    def __init__(self, file_list, transforms=None):\r\n",
        "        self.line = None\r\n",
        "        self.path = None\r\n",
        "        self.landmarks = None\r\n",
        "        self.attribute = None\r\n",
        "        self.filenames = None\r\n",
        "        self.euler_angle = None\r\n",
        "        self.transforms = transforms\r\n",
        "\r\n",
        "        # 读取txt文件\r\n",
        "        with open(file_list, 'r') as f:\r\n",
        "            self.lines = f.readlines()\r\n",
        "\r\n",
        "    def __getitem__(self, index):\r\n",
        "        # 储存图像路径\r\n",
        "        self.line = self.lines[index].strip().split()\r\n",
        "        self.img = cv2.imread(self.line[0])\r\n",
        "        self.img = cv2.cvtColor(self.img, cv2.COLOR_BGR2RGB)\r\n",
        "        self.landmark = np.asarray(self.line[1:197], dtype=np.float32) # 98个人脸关键点\r\n",
        "        self.attribute = np.asarray(self.line[197:203], dtype=np.int32) # 6个人脸属性\r\n",
        "        self.euler_angle = np.asarray(self.line[203:206], dtype=np.float32) # 3个欧拉角\r\n",
        "        if self.transforms:\r\n",
        "            self.img = self.transforms(self.img)\r\n",
        "        return (self.img, self.landmark, self.attribute, self.euler_angle)\r\n",
        "\r\n",
        "    def __len__(self):\r\n",
        "        return len(self.lines)"
      ],
      "execution_count": null,
      "outputs": []
    },
    {
      "cell_type": "markdown",
      "metadata": {
        "id": "3iIwvvkM2uDn"
      },
      "source": [
        "定义了函数`WLFWDatasets`后，现在调用函数加载数据，并且调用`DataLoader`函数读取数据，并将其分为多个批次（batch），在模型训练时可以分批次进行训练。"
      ]
    },
    {
      "cell_type": "code",
      "metadata": {
        "id": "v0YNXfsjxNZu"
      },
      "source": [
        "# 数据路径\r\n",
        "dataroot='/content/train_data/list.txt'\r\n",
        "val_dataroot='/content/test_data/list.txt'\r\n",
        "\r\n",
        "# 每个batch的大小\r\n",
        "train_batchsize=256\r\n",
        "val_batchsize=256\r\n",
        "\r\n",
        "transform = transforms.Compose([transforms.ToTensor()])\r\n",
        "\r\n",
        "# 读取训练集\r\n",
        "wlfwdataset = WLFWDatasets(dataroot, transform)\r\n",
        "dataloader = DataLoader(wlfwdataset, batch_size=train_batchsize, shuffle=True, num_workers=0, drop_last=False)\r\n",
        "\r\n",
        "# 读取测试集\r\n",
        "wlfw_val_dataset = WLFWDatasets(val_dataroot, transform)\r\n",
        "wlfw_val_dataloader = DataLoader(wlfw_val_dataset, batch_size=val_batchsize, shuffle=False, num_workers=0)"
      ],
      "execution_count": null,
      "outputs": []
    },
    {
      "cell_type": "markdown",
      "metadata": {
        "id": "WpJy1MBl5mGR"
      },
      "source": [
        "<div id=\"4\"></div>\r\n",
        "# 4 模型构建\r\n",
        "\r\n",
        "模型包含两个部分，分别为关键点回归模型和姿态估计模型。我们首先介绍关键点模型的构造方法。这一回归模型基于MobileNet V2，不同于MobileNet V1，它使用了“漏斗型”的残差模块。\r\n",
        "\r\n",
        "首先搭建一个神经网络模块，便于后续调用，由卷积层、批量归一化层（BN层）构成。\r\n"
      ]
    },
    {
      "cell_type": "code",
      "metadata": {
        "id": "mmgQbv_f8C3D"
      },
      "source": [
        "def conv_bn(inp, oup, kernel, stride, padding=1):\r\n",
        "    return nn.Sequential(\r\n",
        "        nn.Conv2d(inp, oup, kernel, stride, padding, bias=False),\r\n",
        "        nn.BatchNorm2d(oup), nn.ReLU(inplace=True))"
      ],
      "execution_count": null,
      "outputs": []
    },
    {
      "cell_type": "markdown",
      "metadata": {
        "id": "F1vYCiwnAXrK"
      },
      "source": [
        "接下来介绍“漏斗型”的残差模块，它包含3个卷积层。第一个卷积层采用$1 \\times 1$的卷积核，实现升维；第二个卷积层采用$3 \\times 3$的卷积核，进行分组卷积；第三个卷积层同样采用$1 \\times 1$的卷积核，实现降维。\r\n",
        "\r\n",
        "这一构造中，中间层的维度较高，所以被称为“漏斗型”的残差模块。通过设置变量`use_res_connect`的值，可以决定是否使用跳层连接。"
      ]
    },
    {
      "cell_type": "code",
      "metadata": {
        "id": "FQpUucLh8HA9"
      },
      "source": [
        "class InvertedResidual(nn.Module):\r\n",
        "    # 神经网络\r\n",
        "    def __init__(self, inp, oup, stride, use_res_connect, expand_ratio=6):\r\n",
        "        super(InvertedResidual, self).__init__()\r\n",
        "        self.stride = stride\r\n",
        "        assert stride in [1, 2] # 步长为1或2\r\n",
        "\r\n",
        "        self.use_res_connect = use_res_connect # 决定是否使用跳层连接\r\n",
        "\r\n",
        "        self.conv = nn.Sequential(\r\n",
        "            # 1*1卷积层，输入通道数为inp，转换为inp * expand_ratio\r\n",
        "            nn.Conv2d(inp, inp * expand_ratio, 1, 1, 0, bias=False),\r\n",
        "            nn.BatchNorm2d(inp * expand_ratio),\r\n",
        "            nn.ReLU(inplace=True),\r\n",
        "\r\n",
        "            # 3*3 分组卷积层\r\n",
        "            nn.Conv2d(inp * expand_ratio, inp * expand_ratio,3, stride,\r\n",
        "                      1, groups=inp * expand_ratio, bias=False),\r\n",
        "            nn.BatchNorm2d(inp * expand_ratio),\r\n",
        "            nn.ReLU(inplace=True),\r\n",
        "            \r\n",
        "            # 1*1卷积层，输入通道数为inp * expand_ratio， 转换为oup\r\n",
        "            nn.Conv2d(inp * expand_ratio, oup, 1, 1, 0, bias=False),\r\n",
        "            nn.BatchNorm2d(oup),\r\n",
        "        )\r\n",
        "\r\n",
        "    # 前向传播\r\n",
        "    def forward(self, x):\r\n",
        "        if self.use_res_connect:\r\n",
        "            return x + self.conv(x)\r\n",
        "        else:\r\n",
        "            return self.conv(x)"
      ],
      "execution_count": null,
      "outputs": []
    },
    {
      "cell_type": "markdown",
      "metadata": {
        "id": "6AdiB00ZCKvv"
      },
      "source": [
        "构造关键点模型`PFLDInference`，需要调用“漏斗型”的残差模块`InvertedResidual`。模型的构造为：首先通过两层卷积层，提取特征；再使用堆叠的“漏斗型”残差模块；最后融合3个特征尺度。\r\n",
        "\r\n",
        "其中第1个特征尺度为$14 \\times 14$，经过全局平均池化后，维度为16；第2个特征尺度为$7 \\times 7$，经全局平均池化后维度为32；第3个特征尺度为$1 \\times 1$，维度为128。融合三个特征维度的信息后，总特征向量维度为176。输入全连接层，得到196维的人脸关键点坐标，储存在变量`landmarks`中。另一个输出数据`out1`为接下来介绍的姿态估计网络的输入数据。"
      ]
    },
    {
      "cell_type": "code",
      "metadata": {
        "id": "bkqcyK476IYp"
      },
      "source": [
        "class PFLDInference(nn.Module):\r\n",
        "    def __init__(self):\r\n",
        "        super(PFLDInference, self).__init__()\r\n",
        "\r\n",
        "        # 第一层卷积层 输入图像数据，输出通道为64，卷积核大小 = 3，步长 = 2\r\n",
        "        self.conv1 = nn.Conv2d(3, 64, kernel_size=3, stride=2, padding=1, bias=False)\r\n",
        "        self.bn1 = nn.BatchNorm2d(64)\r\n",
        "        self.relu = nn.ReLU(inplace=True)\r\n",
        "\r\n",
        "        # 第二层卷积层 输入通道为64，输出通道为64，卷积核大小 = 3，步长 = 1\r\n",
        "        self.conv2 = nn.Conv2d(64, 64, kernel_size=3, stride=1, padding=1, bias=False)\r\n",
        "        self.bn2 = nn.BatchNorm2d(64)\r\n",
        "        self.relu = nn.ReLU(inplace=True)\r\n",
        "\r\n",
        "        # 漏斗型残差模块\r\n",
        "        self.conv3_1 = InvertedResidual(64, 64, 2, False, 2)\r\n",
        "        self.block3_2 = InvertedResidual(64, 64, 1, True, 2)\r\n",
        "        self.block3_3 = InvertedResidual(64, 64, 1, True, 2)\r\n",
        "        self.block3_4 = InvertedResidual(64, 64, 1, True, 2)\r\n",
        "        self.block3_5 = InvertedResidual(64, 64, 1, True, 2)\r\n",
        "        self.conv4_1 = InvertedResidual(64, 128, 2, False, 2)\r\n",
        "        self.conv5_1 = InvertedResidual(128, 128, 1, False, 4)\r\n",
        "        self.block5_2 = InvertedResidual(128, 128, 1, True, 4)\r\n",
        "        self.block5_3 = InvertedResidual(128, 128, 1, True, 4)\r\n",
        "        self.block5_4 = InvertedResidual(128, 128, 1, True, 4)\r\n",
        "        self.block5_5 = InvertedResidual(128, 128, 1, True, 4)\r\n",
        "        self.block5_6 = InvertedResidual(128, 128, 1, True, 4)\r\n",
        "        self.conv6_1 = InvertedResidual(128, 16, 1, False, 2)  # [16, 14, 14]\r\n",
        "\r\n",
        "        # 卷积层，输入通道为16，输出通道为32，卷积核大小 = 3，步长 = 2\r\n",
        "        self.conv7 = conv_bn(16, 32, 3, 2)  # [32, 7, 7]\r\n",
        "        \r\n",
        "        # 卷积层，输入通道为32，输出通道为128，卷积核大小 = 3\r\n",
        "        self.conv8 = nn.Conv2d(32, 128, 7, 1, 0)  # [128, 1, 1]\r\n",
        "        self.bn8 = nn.BatchNorm2d(128)\r\n",
        "\r\n",
        "        # 全局平均池化层\r\n",
        "        self.avg_pool1 = nn.AvgPool2d(14)\r\n",
        "        self.avg_pool2 = nn.AvgPool2d(7)\r\n",
        "\r\n",
        "        # 全连接层\r\n",
        "        self.fc = nn.Linear(176, 196)\r\n",
        "\r\n",
        "    # 前向传播\r\n",
        "    def forward(self, x):  # x: 3, 112, 112\r\n",
        "        x = self.relu(self.bn1(self.conv1(x)))  # [64, 56, 56]\r\n",
        "        x = self.relu(self.bn2(self.conv2(x)))  # [64, 56, 56]\r\n",
        "        x = self.conv3_1(x)\r\n",
        "        x = self.block3_2(x)\r\n",
        "        x = self.block3_3(x)\r\n",
        "        x = self.block3_4(x)\r\n",
        "        out1 = self.block3_5(x)\r\n",
        "\r\n",
        "        x = self.conv4_1(out1)\r\n",
        "        x = self.conv5_1(x)\r\n",
        "        x = self.block5_2(x)\r\n",
        "        x = self.block5_3(x)\r\n",
        "        x = self.block5_4(x)\r\n",
        "        x = self.block5_5(x)\r\n",
        "        x = self.block5_6(x)\r\n",
        "        x = self.conv6_1(x)\r\n",
        "        \r\n",
        "        x1 = self.avg_pool1(x)\r\n",
        "        x1 = x1.view(x1.size(0), -1) # 第1个特征，维度为16\r\n",
        "        x = self.conv7(x)\r\n",
        "        x2 = self.avg_pool2(x) # 第2个特征，维度为32\r\n",
        "        x2 = x2.view(x2.size(0), -1)\r\n",
        "        x3 = self.relu(self.conv8(x))\r\n",
        "        x3 = x3.view(x3.size(0), -1) # 第3个特征，维度为128\r\n",
        "\r\n",
        "        # 多尺度的特征相融合\r\n",
        "        multi_scale = torch.cat([x1, x2, x3], 1)\r\n",
        "        \r\n",
        "        # 输出人脸关键点\r\n",
        "        landmarks = self.fc(multi_scale)\r\n",
        "\r\n",
        "        return out1, landmarks"
      ],
      "execution_count": null,
      "outputs": []
    },
    {
      "cell_type": "markdown",
      "metadata": {
        "id": "ut07qeCgMlpj"
      },
      "source": [
        "姿态估计网络在训练时预测人脸姿态，给网络加这个辅助任务可以提高定位精度。其网络构造为4个卷积层、1个最大池化层和2个全连接层。\r\n",
        "\r\n",
        "姿态估计网络的第1个卷积层的输入为关键点模型`PFLDInference`的中间特征层的输出，即两个网络实现了底层特征共享。"
      ]
    },
    {
      "cell_type": "code",
      "metadata": {
        "id": "H5VzQR7x6foF"
      },
      "source": [
        "class AuxiliaryNet(nn.Module):\r\n",
        "    def __init__(self):\r\n",
        "        super(AuxiliaryNet, self).__init__()\r\n",
        "        \r\n",
        "        # 卷积层\r\n",
        "        self.conv1 = conv_bn(64, 128, 3, 2)\r\n",
        "        self.conv2 = conv_bn(128, 128, 3, 1)\r\n",
        "        self.conv3 = conv_bn(128, 32, 3, 2)\r\n",
        "        self.conv4 = conv_bn(32, 128, 7, 1)\r\n",
        "\r\n",
        "        # 最大池化层，卷积核3*3\r\n",
        "        self.max_pool1 = nn.MaxPool2d(3)\r\n",
        "\r\n",
        "        # 全连接层\r\n",
        "        self.fc1 = nn.Linear(128, 32)\r\n",
        "        self.fc2 = nn.Linear(32, 3)\r\n",
        "\r\n",
        "    def forward(self, x):\r\n",
        "        x = self.conv1(x)\r\n",
        "        x = self.conv2(x)\r\n",
        "        x = self.conv3(x)\r\n",
        "        x = self.conv4(x)\r\n",
        "        x = self.max_pool1(x)\r\n",
        "        x = x.view(x.size(0), -1)\r\n",
        "        x = self.fc1(x)\r\n",
        "        x = self.fc2(x)\r\n",
        "\r\n",
        "        return x"
      ],
      "execution_count": null,
      "outputs": []
    },
    {
      "cell_type": "markdown",
      "metadata": {
        "id": "LXE3Kl73OB9L"
      },
      "source": [
        "<div id=\"5\"></div>\r\n",
        "# 5 模型训练\r\n",
        "\r\n",
        "<div id=\"5.1\"></div>\r\n",
        "## 5.1 模型训练函数\r\n",
        "\r\n",
        "在进行模型训练前，首先要定义模型训练的函数。下列函数中，`train`函数定义了优化模型参数的过程。通过读入数据、预测人脸关键点、计算损失值、反向传播等过程，不断优化模型参数，提高预测人脸关键点的精度。"
      ]
    },
    {
      "cell_type": "code",
      "metadata": {
        "id": "6nD7B1NG8qPV"
      },
      "source": [
        "def train(train_loader, pfld_backbone, auxiliarynet, criterion, optimizer, epoch):\r\n",
        "\r\n",
        "    # 初始化损失值\r\n",
        "    losses = AverageMeter()\r\n",
        "    weighted_loss, loss = None, None \r\n",
        "\r\n",
        "    # 优化模型参数\r\n",
        "    for img, landmark_gt, attribute_gt, euler_angle_gt in train_loader:\r\n",
        "        # 读取数据，预测人脸关键点\r\n",
        "        img = img.to(device)\r\n",
        "        attribute_gt = attribute_gt.to(device)\r\n",
        "        landmark_gt = landmark_gt.to(device)\r\n",
        "        euler_angle_gt = euler_angle_gt.to(device)\r\n",
        "        pfld_backbone = pfld_backbone.to(device)\r\n",
        "        auxiliarynet = auxiliarynet.to(device)\r\n",
        "        features, landmarks = pfld_backbone(img)\r\n",
        "        angle = auxiliarynet(features)\r\n",
        "\r\n",
        "        # 计算损失值\r\n",
        "        weighted_loss, loss = criterion(attribute_gt, landmark_gt, euler_angle_gt, angle, landmarks, train_batchsize)\r\n",
        "        \r\n",
        "        # 反向传播、优化模型参数\r\n",
        "        optimizer.zero_grad()\r\n",
        "        weighted_loss.backward()\r\n",
        "        optimizer.step()\r\n",
        "        losses.update(loss.item())\r\n",
        "        \r\n",
        "    return weighted_loss, loss"
      ],
      "execution_count": null,
      "outputs": []
    },
    {
      "cell_type": "markdown",
      "metadata": {
        "id": "MosZ7M0ZHXbe"
      },
      "source": [
        "此外，还需定义`validate`函数，可以在训练模型时，判断模型在验证集上的检测效果，并不改变模型参数。"
      ]
    },
    {
      "cell_type": "code",
      "metadata": {
        "id": "nZoRiWo39Uzc"
      },
      "source": [
        "def validate(wlfw_val_dataloader, pfld_backbone, auxiliarynet, criterion):\r\n",
        "    pfld_backbone.eval()\r\n",
        "    auxiliarynet.eval()\r\n",
        "    losses = []\r\n",
        "    with torch.no_grad():\r\n",
        "        for img, landmark_gt, attribute_gt, euler_angle_gt in wlfw_val_dataloader:\r\n",
        "            img = img.to(device)\r\n",
        "            attribute_gt = attribute_gt.to(device)\r\n",
        "            landmark_gt = landmark_gt.to(device)\r\n",
        "            euler_angle_gt = euler_angle_gt.to(device)\r\n",
        "            pfld_backbone = pfld_backbone.to(device)\r\n",
        "            auxiliarynet = auxiliarynet.to(device)\r\n",
        "            _, landmark = pfld_backbone(img)\r\n",
        "            loss = torch.mean(torch.sum((landmark_gt - landmark)**2, axis=1))\r\n",
        "            losses.append(loss.cpu().numpy())\r\n",
        "    return np.mean(losses)"
      ],
      "execution_count": null,
      "outputs": []
    },
    {
      "cell_type": "markdown",
      "metadata": {
        "id": "NEy9OlgzH1KF"
      },
      "source": [
        "`save_checkpoint`函数能够保存训练好的模型参数，避免重复训练模型。"
      ]
    },
    {
      "cell_type": "code",
      "metadata": {
        "id": "-AkFKqRV-CXV"
      },
      "source": [
        "# 保存模型参数\r\n",
        "def save_checkpoint(state, filename='checkpoint.pth.tar'):\r\n",
        "    torch.save(state, filename)\r\n",
        "    # logging.info('Save checkpoint to {0:}'.format(filename))"
      ],
      "execution_count": null,
      "outputs": []
    },
    {
      "cell_type": "markdown",
      "metadata": {
        "id": "jxU-Xaj-IYhV"
      },
      "source": [
        "<div id=\"5.2\"></div>\r\n",
        "## 5.2 优化模型参数\r\n",
        "\r\n",
        "定义好训练模型所需要的函数后，现在可以进行模型的训练，以得到最优的模型参数。\r\n",
        "\r\n",
        "首先给定变量的初始值，如指定运行设备、选择网络主体等。"
      ]
    },
    {
      "cell_type": "code",
      "metadata": {
        "id": "n1lbkm3JSs7s"
      },
      "source": [
        "device = torch.device(\"cuda\" if torch.cuda.is_available() else \"cpu\") # 运行设备\r\n",
        "\r\n",
        "# 加载模型\r\n",
        "pfld_backbone = PFLDInference().to(device) \r\n",
        "auxiliarynet = AuxiliaryNet().to(device)\r\n",
        "criterion = PFLDLoss() # 损失函数\r\n",
        "optimizer = torch.optim.Adam([{'params': pfld_backbone.parameters()}, {'params': auxiliarynet.parameters()}],\r\n",
        "                             lr=0.0001,weight_decay=1e-6) # 优化器算法\r\n",
        "scheduler = torch.optim.lr_scheduler.ReduceLROnPlateau(optimizer, mode='min', patience=40, verbose=True) # 调整学习率"
      ],
      "execution_count": null,
      "outputs": []
    },
    {
      "cell_type": "markdown",
      "metadata": {
        "id": "SuXEhzcjJtnx"
      },
      "source": [
        "下面进行模型训练，本案例进行50个Epoch的训练（Epoch：将所有训练样本训练一次），并储存每个Epoch的训练结果，以及损失值。"
      ]
    },
    {
      "cell_type": "code",
      "metadata": {
        "colab": {
          "base_uri": "https://localhost:8080/"
        },
        "id": "9oDmn3G7RQa9",
        "outputId": "852f881c-958d-4026-ec41-ac1b4be0e760"
      },
      "source": [
        "val_loss_list = []\r\n",
        "train_loss_list = []\r\n",
        "\r\n",
        "start_epoch=1\r\n",
        "end_epoch=50\r\n",
        "\r\n",
        "for epoch in range(start_epoch, end_epoch + 1):\r\n",
        "    print(\"===> Epoch: \",epoch)\r\n",
        "    weighted_train_loss, train_loss = train(dataloader, pfld_backbone, auxiliarynet, criterion, optimizer, epoch)\r\n",
        "    filename = os.path.join(str(\"/content\"), \"checkpoint_epoch_\" + str(epoch) + '.pth.tar')\r\n",
        "    save_checkpoint(\r\n",
        "        { 'epoch': epoch,\r\n",
        "         'pfld_backbone': pfld_backbone.state_dict(),\r\n",
        "         'auxiliarynet': auxiliarynet.state_dict()\r\n",
        "        }, filename)\r\n",
        "\r\n",
        "    val_loss = validate(wlfw_val_dataloader, pfld_backbone, auxiliarynet, criterion)\r\n",
        "\r\n",
        "    scheduler.step(val_loss)\r\n",
        "    print('Train Loss: {:.4f} ; Val Loss: {:.4f} '.format(train_loss, val_loss))\r\n",
        "    val_loss_list.append(val_loss)\r\n",
        "    train_loss_list.append(train_loss)"
      ],
      "execution_count": null,
      "outputs": [
        {
          "output_type": "stream",
          "text": [
            "===> Epoch:  1\n",
            "Train Loss: 2.5348 ; Val Loss: 1.8770 \n",
            "===> Epoch:  2\n",
            "Train Loss: 2.1838 ; Val Loss: 1.6415 \n",
            "===> Epoch:  3\n",
            "Train Loss: 1.6961 ; Val Loss: 1.1987 \n",
            "===> Epoch:  4\n",
            "Train Loss: 1.2870 ; Val Loss: 0.9331 \n",
            "===> Epoch:  5\n",
            "Train Loss: 0.9243 ; Val Loss: 0.7882 \n",
            "===> Epoch:  6\n",
            "Train Loss: 0.8429 ; Val Loss: 0.7336 \n",
            "===> Epoch:  7\n",
            "Train Loss: 0.9066 ; Val Loss: 0.6601 \n",
            "===> Epoch:  8\n",
            "Train Loss: 0.8607 ; Val Loss: 0.6118 \n",
            "===> Epoch:  9\n",
            "Train Loss: 0.6693 ; Val Loss: 0.5603 \n",
            "===> Epoch:  10\n",
            "Train Loss: 0.7791 ; Val Loss: 0.5367 \n",
            "===> Epoch:  11\n",
            "Train Loss: 0.5867 ; Val Loss: 0.5045 \n",
            "===> Epoch:  12\n",
            "Train Loss: 0.5293 ; Val Loss: 0.4847 \n",
            "===> Epoch:  13\n",
            "Train Loss: 0.5174 ; Val Loss: 0.4630 \n",
            "===> Epoch:  14\n",
            "Train Loss: 0.5923 ; Val Loss: 0.4622 \n",
            "===> Epoch:  15\n",
            "Train Loss: 0.4638 ; Val Loss: 0.4307 \n",
            "===> Epoch:  16\n",
            "Train Loss: 0.4690 ; Val Loss: 0.4148 \n",
            "===> Epoch:  17\n",
            "Train Loss: 0.3621 ; Val Loss: 0.3942 \n",
            "===> Epoch:  18\n",
            "Train Loss: 0.4472 ; Val Loss: 0.3909 \n",
            "===> Epoch:  19\n",
            "Train Loss: 0.4504 ; Val Loss: 0.4240 \n",
            "===> Epoch:  20\n",
            "Train Loss: 0.3202 ; Val Loss: 0.3669 \n",
            "===> Epoch:  21\n",
            "Train Loss: 0.3467 ; Val Loss: 0.3531 \n",
            "===> Epoch:  22\n",
            "Train Loss: 0.3070 ; Val Loss: 0.3492 \n",
            "===> Epoch:  23\n",
            "Train Loss: 0.2830 ; Val Loss: 0.3357 \n",
            "===> Epoch:  24\n",
            "Train Loss: 0.2875 ; Val Loss: 0.3317 \n",
            "===> Epoch:  25\n",
            "Train Loss: 0.2746 ; Val Loss: 0.3335 \n",
            "===> Epoch:  26\n",
            "Train Loss: 0.2252 ; Val Loss: 0.3299 \n",
            "===> Epoch:  27\n",
            "Train Loss: 0.2569 ; Val Loss: 0.3114 \n",
            "===> Epoch:  28\n",
            "Train Loss: 0.3129 ; Val Loss: 0.3153 \n",
            "===> Epoch:  29\n",
            "Train Loss: 0.2724 ; Val Loss: 0.3123 \n",
            "===> Epoch:  30\n",
            "Train Loss: 0.2664 ; Val Loss: 0.3083 \n",
            "===> Epoch:  31\n",
            "Train Loss: 0.2945 ; Val Loss: 0.3349 \n",
            "===> Epoch:  32\n",
            "Train Loss: 0.5773 ; Val Loss: 0.5244 \n",
            "===> Epoch:  33\n",
            "Train Loss: 0.2761 ; Val Loss: 0.2882 \n",
            "===> Epoch:  34\n",
            "Train Loss: 0.2359 ; Val Loss: 0.2782 \n",
            "===> Epoch:  35\n",
            "Train Loss: 0.2427 ; Val Loss: 0.2749 \n",
            "===> Epoch:  36\n",
            "Train Loss: 0.2446 ; Val Loss: 0.2685 \n",
            "===> Epoch:  37\n",
            "Train Loss: 0.1906 ; Val Loss: 0.2725 \n",
            "===> Epoch:  38\n",
            "Train Loss: 0.2407 ; Val Loss: 0.2647 \n",
            "===> Epoch:  39\n",
            "Train Loss: 0.1979 ; Val Loss: 0.2634 \n",
            "===> Epoch:  40\n",
            "Train Loss: 0.2367 ; Val Loss: 0.2574 \n",
            "===> Epoch:  41\n",
            "Train Loss: 0.1910 ; Val Loss: 0.2550 \n",
            "===> Epoch:  42\n",
            "Train Loss: 0.1971 ; Val Loss: 0.2553 \n",
            "===> Epoch:  43\n",
            "Train Loss: 0.1906 ; Val Loss: 0.2545 \n",
            "===> Epoch:  44\n",
            "Train Loss: 0.2152 ; Val Loss: 0.2697 \n",
            "===> Epoch:  45\n",
            "Train Loss: 0.2208 ; Val Loss: 0.2595 \n",
            "===> Epoch:  46\n",
            "Train Loss: 0.2059 ; Val Loss: 0.2541 \n",
            "===> Epoch:  47\n",
            "Train Loss: 0.2612 ; Val Loss: 0.2690 \n",
            "===> Epoch:  48\n",
            "Train Loss: 0.2833 ; Val Loss: 0.2479 \n",
            "===> Epoch:  49\n",
            "Train Loss: 0.3007 ; Val Loss: 0.3060 \n",
            "===> Epoch:  50\n",
            "Train Loss: 0.1896 ; Val Loss: 0.2387 \n"
          ],
          "name": "stdout"
        }
      ]
    },
    {
      "cell_type": "markdown",
      "metadata": {
        "id": "CHgZ49ddSftj"
      },
      "source": [
        "<div id=\"6\"></div>\r\n",
        "# 6 人脸关键点检测效果\r\n",
        "\r\n",
        "<div id=\"6.1\"></div>\r\n",
        "## 6.1 损失值变化\r\n",
        "\r\n",
        "首先展示训练过程中，模型在训练集和验证集上的损失值。由下图可以看到，随着训练次数的增加（即Epoch值的增大），训练集和验证集上的损失值不断降低，证明模型识别人脸关键点的精度不断提高。"
      ]
    },
    {
      "cell_type": "code",
      "metadata": {
        "colab": {
          "base_uri": "https://localhost:8080/",
          "height": 295
        },
        "id": "DqtF7_INHLNE",
        "outputId": "e298119b-9579-4c3d-8581-0ee1f8044059"
      },
      "source": [
        "plt.plot(train_loss_list)\r\n",
        "plt.xlabel(\"Epoch\")\r\n",
        "plt.ylabel(\"Train Loss\")\r\n",
        "plt.title(\"Train Loss\")\r\n",
        "plt.show()"
      ],
      "execution_count": null,
      "outputs": [
        {
          "output_type": "display_data",
          "data": {
            "image/png": "[encoded data removed]",
            "text/plain": [
              "<Figure size 432x288 with 1 Axes>"
            ]
          },
          "metadata": {
            "tags": [],
            "needs_background": "light"
          }
        }
      ]
    },
    {
      "cell_type": "code",
      "metadata": {
        "colab": {
          "base_uri": "https://localhost:8080/",
          "height": 295
        },
        "id": "JloKPiB7G-Dq",
        "outputId": "db97ba1c-bdb0-4134-abde-55ca3734d532"
      },
      "source": [
        "plt.plot(val_loss_list)\r\n",
        "plt.xlabel(\"Epoch\")\r\n",
        "plt.ylabel(\"Val Loss\")\r\n",
        "plt.title(\"Val Loss\")\r\n",
        "plt.show()"
      ],
      "execution_count": null,
      "outputs": [
        {
          "output_type": "display_data",
          "data": {
            "image/png": "[encoded data removed]",
            "text/plain": [
              "<Figure size 432x288 with 1 Axes>"
            ]
          },
          "metadata": {
            "tags": [],
            "needs_background": "light"
          }
        }
      ]
    },
    {
      "cell_type": "markdown",
      "metadata": {
        "id": "wdTtuOxSPJPx"
      },
      "source": [
        "<div id=\"6.2\"></div>\r\n",
        "## 6.2 人脸关键点检测\r\n",
        "\r\n",
        "读取训练50个Epoch后，得到的模型参数，在测试集上进行人脸关键点检测，直观展示模型的检测效果。"
      ]
    },
    {
      "cell_type": "code",
      "metadata": {
        "id": "PWr4DVUGRn16"
      },
      "source": [
        "# 读取压缩为zip文件的数据集\r\n",
        "!apt install unzip\r\n",
        "!unzip checkpoint.zip"
      ],
      "execution_count": null,
      "outputs": []
    },
    {
      "cell_type": "markdown",
      "metadata": {
        "id": "StQmPOAgP8TB"
      },
      "source": [
        "定义展示识别结果的函数，通过`cv2`模块，将检测出的关键点添加到原始人脸图像中，并展示结果。"
      ]
    },
    {
      "cell_type": "code",
      "metadata": {
        "id": "qMUKd2aT7YcU"
      },
      "source": [
        "def predict(wlfw_val_dataloader, plfd_backbone, auxiliarynet):\r\n",
        "    # 读取模型，不修改参数\r\n",
        "    plfd_backbone.eval()\r\n",
        "    auxiliarynet.eval()\r\n",
        "\r\n",
        "    with torch.no_grad():\r\n",
        "        for img, landmark_gt, attribute_gt, euler_angle_gt in wlfw_val_dataloader:\r\n",
        "            # 加载图像\r\n",
        "            img = img.cuda(non_blocking=True)\r\n",
        "            \r\n",
        "            # 检测人脸关键点\r\n",
        "            _, landmarks = plfd_backbone(img)\r\n",
        "            landmarks = landmarks.cpu().numpy()\r\n",
        "            landmarks = landmarks.reshape(landmarks.shape[0], -1, 2)\r\n",
        "\r\n",
        "            # 在图像上添加人脸关键点\r\n",
        "            show_img = np.array(np.transpose(img[0].cpu().numpy(), (1, 2, 0)))\r\n",
        "            show_img = (show_img * 256).astype(np.uint8)\r\n",
        "            np.clip(show_img, 0, 255)\r\n",
        "            pre_landmark = landmarks[0] * [112, 112]\r\n",
        "            cv2.imwrite(\"xxx.jpg\", show_img)\r\n",
        "            img_clone = cv2.imread(\"xxx.jpg\")\r\n",
        "            for (x, y) in pre_landmark.astype(np.int32):\r\n",
        "                cv2.circle(img_clone, (x, y), 1, (0,255,0),0)\r\n",
        "            \r\n",
        "            # 展示图像\r\n",
        "            plt.imshow(img_clone)\r\n",
        "            plt.show()\r\n",
        "            break"
      ],
      "execution_count": null,
      "outputs": []
    },
    {
      "cell_type": "markdown",
      "metadata": {
        "id": "QHGs40SCWqrd"
      },
      "source": [
        "给定变量值，并读取训练好的模型。"
      ]
    },
    {
      "cell_type": "code",
      "metadata": {
        "id": "zernVFjhN5QH"
      },
      "source": [
        "model_path=\"/content/checkpoint/checkpoint_epoch_49.pth.tar\"\r\n",
        "test_dataset=\"/content/test_data/list.txt\""
      ],
      "execution_count": null,
      "outputs": []
    },
    {
      "cell_type": "code",
      "metadata": {
        "colab": {
          "base_uri": "https://localhost:8080/"
        },
        "id": "Jdek45dkOerV",
        "outputId": "f6ef5109-5fd4-4266-e96f-b255d2fe9367"
      },
      "source": [
        "# 读取关键点回归模型\r\n",
        "checkpoint = torch.load(model_path, map_location=device)\r\n",
        "pfld_backbone = PFLDInference().to(device)\r\n",
        "pfld_backbone.load_state_dict(checkpoint['pfld_backbone'])"
      ],
      "execution_count": null,
      "outputs": [
        {
          "output_type": "execute_result",
          "data": {
            "text/plain": [
              "<All keys matched successfully>"
            ]
          },
          "metadata": {
            "tags": []
          },
          "execution_count": 45
        }
      ]
    },
    {
      "cell_type": "code",
      "metadata": {
        "colab": {
          "base_uri": "https://localhost:8080/"
        },
        "id": "nl8ZAjxUOgtJ",
        "outputId": "f0372c60-7fd4-4d57-94f4-0a75459fbc7c"
      },
      "source": [
        "# 读取姿态估计模型\r\n",
        "auxiliarynet = AuxiliaryNet().cuda()\r\n",
        "auxiliarynet.load_state_dict(checkpoint['auxiliarynet'])"
      ],
      "execution_count": null,
      "outputs": [
        {
          "output_type": "execute_result",
          "data": {
            "text/plain": [
              "<All keys matched successfully>"
            ]
          },
          "metadata": {
            "tags": []
          },
          "execution_count": 93
        }
      ]
    },
    {
      "cell_type": "markdown",
      "metadata": {
        "id": "m4vYwNneXHBs"
      },
      "source": [
        "设定随机种子，固定选取的人脸图像，以分析人脸关键点检测结果。"
      ]
    },
    {
      "cell_type": "code",
      "metadata": {
        "id": "ZQKxxUaYXGC3"
      },
      "source": [
        "def setup_seed(seed):\r\n",
        "     torch.manual_seed(seed)\r\n",
        "     torch.cuda.manual_seed_all(seed)\r\n",
        "     np.random.seed(seed)\r\n",
        "     random.seed(seed)\r\n",
        "     torch.backends.cudnn.deterministic = True"
      ],
      "execution_count": null,
      "outputs": []
    },
    {
      "cell_type": "markdown",
      "metadata": {
        "id": "3zY9Q44YXV44"
      },
      "source": [
        "如下图所示，模型能够较为精准地检测人脸上98个关键点，且边缘部分即使受到头发的遮挡，模型也能够准确地标注出关键点。"
      ]
    },
    {
      "cell_type": "code",
      "metadata": {
        "colab": {
          "base_uri": "https://localhost:8080/",
          "height": 268
        },
        "id": "A_KR-vm8_f-I",
        "outputId": "05b25660-1c70-4da6-88cd-1f22cd285c84"
      },
      "source": [
        "setup_seed(25)\r\n",
        "wlfw_val_dataloader = DataLoader(wlfw_val_dataset, batch_size=8, shuffle=True, num_workers=0)\r\n",
        "predict(wlfw_val_dataloader, pfld_backbone, auxiliarynet)"
      ],
      "execution_count": null,
      "outputs": [
        {
          "output_type": "display_data",
          "data": {
            "image/png": "[encoded data removed]",
            "text/plain": [
              "<Figure size 432x288 with 1 Axes>"
            ]
          },
          "metadata": {
            "tags": [],
            "needs_background": "light"
          }
        }
      ]
    },
    {
      "cell_type": "markdown",
      "metadata": {
        "id": "L147VOwgX67b"
      },
      "source": [
        "<div id=\"7\"></div>\r\n",
        "# 7 总结\r\n",
        "\r\n",
        "本案例介绍了人脸关键点检测的步骤，并展示了检测效果。首先读取WLFW数据集，并划分为训练集和测试集。再构建关键点回归模型和姿态估计模型，在训练集上进行50个Epoch的模型训练。最后代入测试集图像，展示检测效果。可以看到，经过多个Epoch训练后，模型的检测效果较好，能够准确地检测出人脸关键点的位置。"
      ]
    }
  ]
}